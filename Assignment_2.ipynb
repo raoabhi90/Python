{
 "cells": [
  {
   "attachments": {
    "image.png": {
     "image/png": "[encoded data removed]"
    }
   },
   "cell_type": "markdown",
   "metadata": {},
   "source": [
    "1. Create the below pattern using nested for loop in Python.\n",
    "![image.png](attachment:image.png)"
   ]
  },
  {
   "cell_type": "code",
   "execution_count": 73,
   "metadata": {},
   "outputs": [
    {
     "name": "stdout",
     "output_type": "stream",
     "text": [
      "Input the value : 5\n",
      "*  \n",
      "* *  \n",
      "* * *  \n",
      "* * * *  \n",
      "* * * * *  \n",
      "* * * *  \n",
      "* * *  \n",
      "* *  \n",
      "*  \n"
     ]
    }
   ],
   "source": [
    "n=int(input('Input the value : '))\n",
    "k=n-1\n",
    "for i in range(n):\n",
    "    for j in range(i+1):\n",
    "#        print(j)\n",
    "        print (\"*\", end=\" \")\n",
    "    print(\" \")    \n",
    "for l in range(k):\n",
    "    for m in range(k):\n",
    "#        print(k)\n",
    "        print (\"*\", end=\" \")\n",
    "    k=k-1\n",
    "    print(\" \")"
   ]
  },
  {
   "attachments": {
    "image-2.png": {
     "image/png": "[encoded data removed]"
    }
   },
   "cell_type": "markdown",
   "metadata": {},
   "source": [
    "2. Write a Python program to reverse a word after accepting the input from the user.\n",
    "![image-2.png](attachment:image-2.png)"
   ]
  },
  {
   "cell_type": "code",
   "execution_count": 74,
   "metadata": {},
   "outputs": [
    {
     "name": "stdout",
     "output_type": "stream",
     "text": [
      "Please enter the word : ineuron\n",
      "Reverse of entered word : norueni\n"
     ]
    }
   ],
   "source": [
    "#User input string\n",
    "s = input('Please enter the word : ')\n",
    "\n",
    "\n",
    "UserInput=[]\n",
    "\n",
    "#lenght of the string to comute for range\n",
    "x=len(s)-1\n",
    "#print(x)\n",
    "\n",
    "str=' '\n",
    "\n",
    "#reverse of word\n",
    "for n in range(x,-1,-1):\n",
    "#    print(n)\n",
    "    UserInput.append(s[n])\n",
    "\n",
    "#print(UserInput)\n",
    "\n",
    "#converting list to string\n",
    "for i in UserInput:\n",
    "\n",
    "    str += \"\" +i\n",
    "print ('Reverse of entered word :'+str)"
   ]
  }
 ],
 "metadata": {
  "kernelspec": {
   "display_name": "Python 3",
   "language": "python",
   "name": "python3"
  },
  "language_info": {
   "codemirror_mode": {
    "name": "ipython",
    "version": 3
   },
   "file_extension": ".py",
   "mimetype": "text/x-python",
   "name": "python",
   "nbconvert_exporter": "python",
   "pygments_lexer": "ipython3",
   "version": "3.8.5"
  }
 },
 "nbformat": 4,
 "nbformat_minor": 4
}
